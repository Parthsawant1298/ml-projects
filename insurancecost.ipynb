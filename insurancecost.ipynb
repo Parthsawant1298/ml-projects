{
  "nbformat": 4,
  "nbformat_minor": 0,
  "metadata": {
    "colab": {
      "provenance": []
    },
    "kernelspec": {
      "name": "python3",
      "display_name": "Python 3"
    },
    "language_info": {
      "name": "python"
    }
  },
  "cells": [
    {
      "cell_type": "code",
      "execution_count": null,
      "metadata": {
        "id": "zr8h57781S_U"
      },
      "outputs": [],
      "source": [
        "import pandas as pd\n",
        "import numpy as np\n",
        "import matplotlib.pyplot as plt"
      ]
    },
    {
      "cell_type": "code",
      "source": [
        "dataset=pd.read_csv('insurance.csv')\n",
        "X=dataset.iloc[:,:-1].values\n",
        "y=dataset.iloc[:,-1].values"
      ],
      "metadata": {
        "id": "-Fm6orlA1fdu"
      },
      "execution_count": null,
      "outputs": []
    },
    {
      "cell_type": "code",
      "source": [
        "# Import necessary classes for encoding and transformation\n",
        "from sklearn.compose import ColumnTransformer\n",
        "from sklearn.preprocessing import OneHotEncoder\n",
        "\n",
        "# Define the ColumnTransformer with multiple columns for OneHotEncoder\n",
        "# Assume columns 1, 3, and 5 are the categorical columns\n",
        "ct = ColumnTransformer(transformers=[\n",
        "    ('encoder', OneHotEncoder(), [1, 4, 5])\n",
        "], remainder='passthrough')\n",
        "\n",
        "# Apply the ColumnTransformer to the feature set\n",
        "X = np.array(ct.fit_transform(X))"
      ],
      "metadata": {
        "id": "SUrqd3052NxD"
      },
      "execution_count": null,
      "outputs": []
    },
    {
      "cell_type": "code",
      "source": [
        "X"
      ],
      "metadata": {
        "colab": {
          "base_uri": "https://localhost:8080/"
        },
        "id": "Ubzl_cI213uK",
        "outputId": "89a7fbd5-d91d-43e0-d48b-19157cb3a32b"
      },
      "execution_count": null,
      "outputs": [
        {
          "output_type": "execute_result",
          "data": {
            "text/plain": [
              "array([[1.0, 0.0, 0.0, ..., 19, 27.9, 0],\n",
              "       [0.0, 1.0, 1.0, ..., 18, 33.77, 1],\n",
              "       [0.0, 1.0, 1.0, ..., 28, 33.0, 3],\n",
              "       ...,\n",
              "       [1.0, 0.0, 1.0, ..., 18, 36.85, 0],\n",
              "       [1.0, 0.0, 1.0, ..., 21, 25.8, 0],\n",
              "       [1.0, 0.0, 0.0, ..., 61, 29.07, 0]], dtype=object)"
            ]
          },
          "metadata": {},
          "execution_count": 33
        }
      ]
    },
    {
      "cell_type": "code",
      "source": [
        "y"
      ],
      "metadata": {
        "colab": {
          "base_uri": "https://localhost:8080/"
        },
        "id": "ZyfiNG-Q146O",
        "outputId": "b996965d-100c-42f1-bef9-c0a95bb0c5f2"
      },
      "execution_count": null,
      "outputs": [
        {
          "output_type": "execute_result",
          "data": {
            "text/plain": [
              "array([16884.924 ,  1725.5523,  4449.462 , ...,  1629.8335,  2007.945 ,\n",
              "       29141.3603])"
            ]
          },
          "metadata": {},
          "execution_count": 34
        }
      ]
    },
    {
      "cell_type": "code",
      "source": [
        "from sklearn.model_selection import train_test_split\n",
        "X_train,X_test,y_train,y_test=train_test_split(X,y,test_size=0.2,random_state=0)"
      ],
      "metadata": {
        "id": "BCFi2mwa1668"
      },
      "execution_count": null,
      "outputs": []
    },
    {
      "cell_type": "code",
      "source": [
        "X_train"
      ],
      "metadata": {
        "colab": {
          "base_uri": "https://localhost:8080/"
        },
        "id": "vy0G7dT32CBw",
        "outputId": "4d112f65-5113-46f9-c161-0f4899762861"
      },
      "execution_count": null,
      "outputs": [
        {
          "output_type": "execute_result",
          "data": {
            "text/plain": [
              "array([[0.0, 1.0, 0.0, ..., 37, 34.1, 4],\n",
              "       [0.0, 1.0, 1.0, ..., 18, 34.43, 0],\n",
              "       [1.0, 0.0, 0.0, ..., 23, 36.67, 2],\n",
              "       ...,\n",
              "       [0.0, 1.0, 1.0, ..., 40, 25.08, 0],\n",
              "       [0.0, 1.0, 1.0, ..., 19, 35.53, 0],\n",
              "       [1.0, 0.0, 1.0, ..., 33, 18.5, 1]], dtype=object)"
            ]
          },
          "metadata": {},
          "execution_count": 36
        }
      ]
    },
    {
      "cell_type": "code",
      "source": [
        "y_train"
      ],
      "metadata": {
        "colab": {
          "base_uri": "https://localhost:8080/"
        },
        "id": "_hiZubsS4hzq",
        "outputId": "fbeff4a8-9d0e-4c71-d632-02bc88b0ab37"
      },
      "execution_count": null,
      "outputs": [
        {
          "output_type": "execute_result",
          "data": {
            "text/plain": [
              "array([40182.246 ,  1137.4697, 38511.6283, ...,  5415.6612,  1646.4297,\n",
              "        4766.022 ])"
            ]
          },
          "metadata": {},
          "execution_count": 37
        }
      ]
    },
    {
      "cell_type": "code",
      "source": [
        "X_test"
      ],
      "metadata": {
        "colab": {
          "base_uri": "https://localhost:8080/"
        },
        "id": "LNn1WDdt4kJL",
        "outputId": "24237113-7da3-4316-a1b9-83c77ab4f587"
      },
      "execution_count": null,
      "outputs": [
        {
          "output_type": "execute_result",
          "data": {
            "text/plain": [
              "array([[0.0, 1.0, 1.0, ..., 52, 30.2, 1],\n",
              "       [1.0, 0.0, 1.0, ..., 47, 29.37, 1],\n",
              "       [0.0, 1.0, 0.0, ..., 48, 40.565, 2],\n",
              "       ...,\n",
              "       [0.0, 1.0, 1.0, ..., 57, 40.28, 0],\n",
              "       [1.0, 0.0, 0.0, ..., 30, 39.05, 3],\n",
              "       [0.0, 1.0, 1.0, ..., 46, 24.795, 3]], dtype=object)"
            ]
          },
          "metadata": {},
          "execution_count": 38
        }
      ]
    },
    {
      "cell_type": "code",
      "source": [
        "y_test"
      ],
      "metadata": {
        "colab": {
          "base_uri": "https://localhost:8080/"
        },
        "id": "kwdl5kxs4lYW",
        "outputId": "407d1794-77b6-498e-91c0-094f3890305f"
      },
      "execution_count": null,
      "outputs": [
        {
          "output_type": "execute_result",
          "data": {
            "text/plain": [
              "array([ 9724.53    ,  8547.6913  , 45702.02235 , 12950.0712  ,\n",
              "        9644.2525  ,  4500.33925 ,  2198.18985 , 11436.73815 ,\n",
              "        7537.1639  ,  5425.02335 ,  6753.038   , 10493.9458  ,\n",
              "        7337.748   ,  4185.0979  , 18310.742   , 10702.6424  ,\n",
              "       12523.6048  ,  3490.5491  ,  6457.8434  , 33475.81715 ,\n",
              "       23967.38305 , 12643.3778  , 23045.56616 , 23065.4207  ,\n",
              "        1674.6323  ,  4667.60765 ,  3732.6251  ,  7682.67    ,\n",
              "        3756.6216  ,  8413.46305 ,  8059.6791  , 48970.2476  ,\n",
              "       12979.358   , 20630.28351 , 14571.8908  ,  4137.5227  ,\n",
              "        8347.1643  , 51194.55914 , 40003.33225 ,  1880.487   ,\n",
              "        5458.04645 ,  2867.1196  , 20149.3229  , 47496.49445 ,\n",
              "       36149.4835  , 26018.95052 , 19749.38338 ,  6940.90985 ,\n",
              "        4718.20355 , 22192.43711 ,  2899.48935 , 18838.70366 ,\n",
              "       23568.272   , 46255.1125  , 24227.33724 ,  3268.84665 ,\n",
              "        2322.6218  ,  8827.2099  , 14478.33015 , 13112.6048  ,\n",
              "        1253.936   , 46718.16325 , 13919.8229  ,  9630.397   ,\n",
              "       10736.87075 ,  9880.068   , 32548.3405  , 38746.3551  ,\n",
              "        3180.5101  ,  8162.71625 , 13041.921   , 11554.2236  ,\n",
              "       16232.847   , 13887.9685  , 13012.20865 , 13217.0945  ,\n",
              "        7147.105   ,  7731.4271  , 20296.86345 , 47403.88    ,\n",
              "       11658.37915 , 45863.205   ,  2055.3249  ,  7441.053   ,\n",
              "       41034.2214  , 18972.495   ,  3410.324   ,  2699.56835 ,\n",
              "       12333.828   , 36837.467   ,  6334.34355 , 10214.636   ,\n",
              "       17878.90068 ,  8515.7587  ,  4518.82625 ,  5148.5526  ,\n",
              "       42303.69215 , 38998.546   ,  5327.40025 , 10602.385   ,\n",
              "        1824.2854  ,  5377.4578  ,  4349.462   , 37742.5757  ,\n",
              "       32787.45859 ,  3353.4703  , 10577.087   ,  3556.9223  ,\n",
              "       11944.59435 , 52590.82939 , 12475.3513  ,  4266.1658  ,\n",
              "        9249.4952  , 33732.6867  , 48675.5177  ,  7729.64575 ,\n",
              "        1964.78    ,  8444.474   , 12347.172   ,  9301.89355 ,\n",
              "       42124.5153  ,  9991.03765 , 14319.031   ,  5428.7277  ,\n",
              "        7626.993   ,  4906.40965 , 23401.30575 , 21098.55405 ,\n",
              "       48173.361   ,  1917.3184  ,  8219.2039  ,  1725.5523  ,\n",
              "        5976.8311  ,  9361.3268  , 22144.032   , 35491.64    ,\n",
              "       19515.5416  , 10107.2206  , 23244.7902  ,  2789.0574  ,\n",
              "        2261.5688  , 10594.50155 ,  9304.7019  , 10435.06525 ,\n",
              "        4894.7533  , 14313.8463  , 28287.89766 , 14426.07385 ,\n",
              "        1627.28245 , 25517.11363 ,  6555.07035 , 39611.7577  ,\n",
              "        9964.06    ,  1720.3537  ,  2730.10785 ,  6500.2359  ,\n",
              "        2643.2685  ,  1719.4363  , 11085.5868  , 10115.00885 ,\n",
              "        4846.92015 , 12982.8747  , 28923.13692 ,  9391.346   ,\n",
              "        4544.2348  , 17128.42608 , 13844.506   ,  6113.23105 ,\n",
              "        4441.21315 ,  1633.9618  ,  4058.71245 ,  4435.0942  ,\n",
              "        8310.83915 ,  1986.9334  ,  4260.744   ,  4504.6624  ,\n",
              "        4428.88785 ,  6117.4945  , 30184.9367  ,  1708.92575 ,\n",
              "       11187.6567  ,  6796.86325 , 11356.6609  ,  2498.4144  ,\n",
              "       27375.90478 , 28101.33305 ,  2254.7967  ,  2597.779   ,\n",
              "       14692.66935 , 10370.91255 , 41097.16175 ,  3981.9768  ,\n",
              "        5472.449   , 21223.6758  ,  2534.39375 ,  1972.95    ,\n",
              "        6406.4107  ,  6551.7501  ,  4058.1161  ,  4243.59005 ,\n",
              "       11512.405   , 46889.2612  , 12268.63225 , 19199.944   ,\n",
              "        4433.3877  , 42969.8527  , 23241.47453 ,  9140.951   ,\n",
              "        5836.5204  ,  1149.3959  ,  8765.249   , 14043.4767  ,\n",
              "        5312.16985 , 10795.93733 ,  6282.235   ,  1969.614   ,\n",
              "        6746.7425  ,  5354.07465 , 14001.2867  ,  6877.9801  ,\n",
              "        6196.448   ,  7986.47525 ,  8277.523   ,  3206.49135 ,\n",
              "       11848.141   , 14210.53595 , 12265.5069  , 11837.16    ,\n",
              "        6652.5288  ,  2137.6536  ,  1131.5066  ,  8342.90875 ,\n",
              "       12244.531   ,  4561.1885  , 17626.23951 ,  6875.961   ,\n",
              "        9447.3824  , 34254.05335 ,  6067.12675 , 11729.6795  ,\n",
              "        5383.536   , 37465.34375 ,  7371.772   ,  7325.0482  ,\n",
              "        8410.04685 , 10461.9794  ,  3279.86855 ,  7727.2532  ,\n",
              "        2731.9122  ,  6858.4796  , 19521.9682  , 47305.305   ,\n",
              "        3987.926   ,  3238.4357  ,  7323.734819,  1704.5681  ,\n",
              "        7445.918   ,  1629.8335  ,  4877.98105 ,  3561.8889  ,\n",
              "        8605.3615  , 24520.264   , 45710.20785 , 15019.76005 ,\n",
              "        6664.68595 , 20709.02034 , 40932.4295  ,  9500.57305 ])"
            ]
          },
          "metadata": {},
          "execution_count": 39
        }
      ]
    },
    {
      "cell_type": "code",
      "source": [
        "from sklearn.ensemble import RandomForestRegressor\n",
        "regressor=RandomForestRegressor(n_estimators=40,random_state=0)\n",
        "regressor.fit(X_train,y_train)\n"
      ],
      "metadata": {
        "colab": {
          "base_uri": "https://localhost:8080/",
          "height": 74
        },
        "id": "PsGaixPe4uCu",
        "outputId": "e16a2939-3595-447b-dc93-edb090c3901e"
      },
      "execution_count": null,
      "outputs": [
        {
          "output_type": "execute_result",
          "data": {
            "text/plain": [
              "RandomForestRegressor(n_estimators=40, random_state=0)"
            ],
            "text/html": [
              "<style>#sk-container-id-4 {color: black;background-color: white;}#sk-container-id-4 pre{padding: 0;}#sk-container-id-4 div.sk-toggleable {background-color: white;}#sk-container-id-4 label.sk-toggleable__label {cursor: pointer;display: block;width: 100%;margin-bottom: 0;padding: 0.3em;box-sizing: border-box;text-align: center;}#sk-container-id-4 label.sk-toggleable__label-arrow:before {content: \"▸\";float: left;margin-right: 0.25em;color: #696969;}#sk-container-id-4 label.sk-toggleable__label-arrow:hover:before {color: black;}#sk-container-id-4 div.sk-estimator:hover label.sk-toggleable__label-arrow:before {color: black;}#sk-container-id-4 div.sk-toggleable__content {max-height: 0;max-width: 0;overflow: hidden;text-align: left;background-color: #f0f8ff;}#sk-container-id-4 div.sk-toggleable__content pre {margin: 0.2em;color: black;border-radius: 0.25em;background-color: #f0f8ff;}#sk-container-id-4 input.sk-toggleable__control:checked~div.sk-toggleable__content {max-height: 200px;max-width: 100%;overflow: auto;}#sk-container-id-4 input.sk-toggleable__control:checked~label.sk-toggleable__label-arrow:before {content: \"▾\";}#sk-container-id-4 div.sk-estimator input.sk-toggleable__control:checked~label.sk-toggleable__label {background-color: #d4ebff;}#sk-container-id-4 div.sk-label input.sk-toggleable__control:checked~label.sk-toggleable__label {background-color: #d4ebff;}#sk-container-id-4 input.sk-hidden--visually {border: 0;clip: rect(1px 1px 1px 1px);clip: rect(1px, 1px, 1px, 1px);height: 1px;margin: -1px;overflow: hidden;padding: 0;position: absolute;width: 1px;}#sk-container-id-4 div.sk-estimator {font-family: monospace;background-color: #f0f8ff;border: 1px dotted black;border-radius: 0.25em;box-sizing: border-box;margin-bottom: 0.5em;}#sk-container-id-4 div.sk-estimator:hover {background-color: #d4ebff;}#sk-container-id-4 div.sk-parallel-item::after {content: \"\";width: 100%;border-bottom: 1px solid gray;flex-grow: 1;}#sk-container-id-4 div.sk-label:hover label.sk-toggleable__label {background-color: #d4ebff;}#sk-container-id-4 div.sk-serial::before {content: \"\";position: absolute;border-left: 1px solid gray;box-sizing: border-box;top: 0;bottom: 0;left: 50%;z-index: 0;}#sk-container-id-4 div.sk-serial {display: flex;flex-direction: column;align-items: center;background-color: white;padding-right: 0.2em;padding-left: 0.2em;position: relative;}#sk-container-id-4 div.sk-item {position: relative;z-index: 1;}#sk-container-id-4 div.sk-parallel {display: flex;align-items: stretch;justify-content: center;background-color: white;position: relative;}#sk-container-id-4 div.sk-item::before, #sk-container-id-4 div.sk-parallel-item::before {content: \"\";position: absolute;border-left: 1px solid gray;box-sizing: border-box;top: 0;bottom: 0;left: 50%;z-index: -1;}#sk-container-id-4 div.sk-parallel-item {display: flex;flex-direction: column;z-index: 1;position: relative;background-color: white;}#sk-container-id-4 div.sk-parallel-item:first-child::after {align-self: flex-end;width: 50%;}#sk-container-id-4 div.sk-parallel-item:last-child::after {align-self: flex-start;width: 50%;}#sk-container-id-4 div.sk-parallel-item:only-child::after {width: 0;}#sk-container-id-4 div.sk-dashed-wrapped {border: 1px dashed gray;margin: 0 0.4em 0.5em 0.4em;box-sizing: border-box;padding-bottom: 0.4em;background-color: white;}#sk-container-id-4 div.sk-label label {font-family: monospace;font-weight: bold;display: inline-block;line-height: 1.2em;}#sk-container-id-4 div.sk-label-container {text-align: center;}#sk-container-id-4 div.sk-container {/* jupyter's `normalize.less` sets `[hidden] { display: none; }` but bootstrap.min.css set `[hidden] { display: none !important; }` so we also need the `!important` here to be able to override the default hidden behavior on the sphinx rendered scikit-learn.org. See: https://github.com/scikit-learn/scikit-learn/issues/21755 */display: inline-block !important;position: relative;}#sk-container-id-4 div.sk-text-repr-fallback {display: none;}</style><div id=\"sk-container-id-4\" class=\"sk-top-container\"><div class=\"sk-text-repr-fallback\"><pre>RandomForestRegressor(n_estimators=40, random_state=0)</pre><b>In a Jupyter environment, please rerun this cell to show the HTML representation or trust the notebook. <br />On GitHub, the HTML representation is unable to render, please try loading this page with nbviewer.org.</b></div><div class=\"sk-container\" hidden><div class=\"sk-item\"><div class=\"sk-estimator sk-toggleable\"><input class=\"sk-toggleable__control sk-hidden--visually\" id=\"sk-estimator-id-4\" type=\"checkbox\" checked><label for=\"sk-estimator-id-4\" class=\"sk-toggleable__label sk-toggleable__label-arrow\">RandomForestRegressor</label><div class=\"sk-toggleable__content\"><pre>RandomForestRegressor(n_estimators=40, random_state=0)</pre></div></div></div></div></div>"
            ]
          },
          "metadata": {},
          "execution_count": 50
        }
      ]
    },
    {
      "cell_type": "code",
      "source": [
        "\n",
        "# Function to encode a new sample and make predictions\n",
        "def predict_new_sample(sample, ct, regressor):\n",
        "    # Transform the new sample using the ColumnTransformer\n",
        "    sample_encoded = np.array(ct.transform([sample]))\n",
        "\n",
        "    # Make a prediction using the trained regressor\n",
        "    prediction = regressor.predict(sample_encoded)\n",
        "\n",
        "    return prediction\n",
        "\n",
        "# New sample to predict (make sure this matches the format used in the dataset)\n",
        "new_sample = [19, 'female', 27.9, 0, 'yes', 'southwest']\n",
        "\n",
        "# Make a prediction for the new sample\n",
        "prediction = predict_new_sample(new_sample, ct, regressor)\n",
        "print(\"Prediction for the new sample:\", prediction)"
      ],
      "metadata": {
        "colab": {
          "base_uri": "https://localhost:8080/"
        },
        "id": "uxu1Br0J6X6H",
        "outputId": "22d524fd-e7ee-4788-8d92-a87dbdb8cdd2"
      },
      "execution_count": null,
      "outputs": [
        {
          "output_type": "stream",
          "name": "stdout",
          "text": [
            "Prediction for the new sample: [16971.68514]\n"
          ]
        }
      ]
    },
    {
      "cell_type": "code",
      "source": [
        "y_pred=regressor.predict(X_test)"
      ],
      "metadata": {
        "id": "N4nTfDbZ40st"
      },
      "execution_count": null,
      "outputs": []
    },
    {
      "cell_type": "code",
      "source": [
        "from sklearn.metrics import r2_score\n",
        "r2_score(y_test,y_pred)"
      ],
      "metadata": {
        "colab": {
          "base_uri": "https://localhost:8080/"
        },
        "id": "3CIUs8it5QLM",
        "outputId": "5893463b-f108-4e5a-c39d-d17e4a0b2ae6"
      },
      "execution_count": null,
      "outputs": [
        {
          "output_type": "execute_result",
          "data": {
            "text/plain": [
              "0.8749339033676494"
            ]
          },
          "metadata": {},
          "execution_count": 52
        }
      ]
    }
  ]
}